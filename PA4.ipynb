{
 "cells": [
  {
   "cell_type": "markdown",
   "id": "99f3215d",
   "metadata": {},
   "source": [
    "# Programming Assignment 4: Benford's Law\n",
    "\n",
    "**Note**: If your computer does not render math equations properly, you can do a right-click and then change the rendering method (`Math Settings > Math Renderer`) to be `HTML-CSS`.\n",
    "\n",
    "**tl;dr**: There are 3 tasks and 1 follow-up task waiting for you (scroll down for more information).\n",
    "\n",
    "## Introduction\n",
    "\n",
    "Benford's Law asserts that the distribution of **the leading digit** in many of our daily-life data obey a particular distribution that is **non-uniform**. This interesting finding becomes a super handy tool in many fields such as **forensic accounting**. (If you are interested, read this 2010 article https://www.gettrymarcus.com/wp-content/uploads/pdfs/MW-Applying-Benfords-Law-in-Financial-Forensic-Investigations.pdf.)\n",
    "\n",
    "In this programming assignment, we always assume that the leading digit of a number (in any base) will never be a zero.\n"
   ]
  },
  {
   "cell_type": "code",
   "execution_count": 1,
   "id": "8e742134",
   "metadata": {},
   "outputs": [],
   "source": [
    "# Just in case you need to import some packages.\n",
    "import numpy as np\n",
    "import seaborn as sns\n",
    "import matplotlib.pyplot as plt\n",
    "plt.style.use(\"seaborn-v0_8\")"
   ]
  },
  {
   "cell_type": "markdown",
   "id": "4808b3a5",
   "metadata": {},
   "source": [
    "## Task 1: Plot Benford's Distribution (1 point)\n",
    "\n",
    "Benford's distribution is defined as the following: given a base $b$ (let's say in decimal, $b=10$),\n",
    "a random variable $X$ that satisfies $P(X=t)=\\log_b (t+1) - \\log_b (t)$, for all $t$, $1\\le t \\le b-1$.\n",
    "\n",
    "Your task is, given the base $b$, to draw a stem plot (similar to a histogram, but use `plt.stem()`) that demostrate this probability mass function.\n"
   ]
  },
  {
   "cell_type": "code",
   "execution_count": 1,
   "id": "b53a92e2",
   "metadata": {},
   "outputs": [],
   "source": [
    "def plot_Benford_distribution(base=10):\n",
    "    \"\"\"Your code here\"\"\""
   ]
  },
  {
   "cell_type": "markdown",
   "id": "d2a9a8de",
   "metadata": {},
   "source": [
    "### Testing\n",
    "\n",
    "We will test your function with the following parameters."
   ]
  },
  {
   "cell_type": "code",
   "execution_count": 2,
   "id": "2e53d724",
   "metadata": {
    "scrolled": false
   },
   "outputs": [],
   "source": [
    "plot_Benford_distribution(10)"
   ]
  },
  {
   "cell_type": "code",
   "execution_count": 3,
   "id": "b1f84c2a",
   "metadata": {},
   "outputs": [],
   "source": [
    "plot_Benford_distribution(36)"
   ]
  },
  {
   "cell_type": "markdown",
   "id": "b7651f0e",
   "metadata": {},
   "source": [
    "## Task 2: Powers of Two (1 point)\n",
    "\n",
    "Let's consider the first digits to the power of two satisfies Benford's Law. Let's verify this.\n",
    "\n",
    "Your task is, given the base $b > 2$ and the number of terms $N$, plot a distribution (using `plt.bar()`) of all leading digits when writing $2^0, 2^1, 2^2, \\ldots, 2^{N-1}$ in base-$b$ representation. Make sure you scale the Y-axis of the histogram.\n",
    "Pick the largest $N$ your program can support and overlay your plot with the Benford's distribution."
   ]
  },
  {
   "cell_type": "code",
   "execution_count": 4,
   "id": "9448574d",
   "metadata": {},
   "outputs": [],
   "source": [
    "def powers_of_two(base=10, N=10000):\n",
    "    \"\"\"Your code here.\"\"\""
   ]
  },
  {
   "cell_type": "markdown",
   "id": "32d277cd",
   "metadata": {},
   "source": [
    "### Testing"
   ]
  },
  {
   "cell_type": "code",
   "execution_count": 5,
   "id": "8a3ee9e3",
   "metadata": {},
   "outputs": [],
   "source": [
    "# Enter your own test 1 here, with base = 10."
   ]
  },
  {
   "cell_type": "code",
   "execution_count": 6,
   "id": "35fa4e13",
   "metadata": {},
   "outputs": [],
   "source": [
    "# Enter your own test 2 here, with base = 36."
   ]
  },
  {
   "cell_type": "markdown",
   "id": "860df513",
   "metadata": {},
   "source": [
    "## Task 3: Fibonacci Numbers (1 point)\n",
    "\n",
    "People says that the histogram of all the leading digits from the first $N$ Fibonacci numbers $\\{F_1, F_2, \\ldots, F_N\\}$ obeys Benford's Law in the limit sense (i.e., $N\\to\\infty$.) Let's verify this.\n",
    "\n",
    "Your task is, given the base $b$ and the number of terms $N$, plot a distribution (using `plt.bar()`) of all leading digits when writing $\\{F_i\\}$ in base-$b$ representation.\n",
    "Pick the largest $N$ your program can support and overlay your plot with the Benford's distribution.\n",
    "\n",
    "Note: $F_0=F_1=1$, for all $N>1$, we have $F_N=F_{N-1}+F_{N-2}$."
   ]
  },
  {
   "cell_type": "code",
   "execution_count": 7,
   "id": "bdf3821b",
   "metadata": {},
   "outputs": [],
   "source": [
    "def fibonacci_numbers(base=10, N=10000):\n",
    "    \"\"\"Your code here.\"\"\""
   ]
  },
  {
   "cell_type": "markdown",
   "id": "fae2ead5",
   "metadata": {},
   "source": [
    "### Testing"
   ]
  },
  {
   "cell_type": "code",
   "execution_count": 8,
   "id": "a64bcb70",
   "metadata": {},
   "outputs": [],
   "source": [
    "# Enter your own test 1 here, with base = 10."
   ]
  },
  {
   "cell_type": "code",
   "execution_count": 9,
   "id": "e7dcb277",
   "metadata": {},
   "outputs": [],
   "source": [
    "# Enter your own test 2 here, with base = 10."
   ]
  },
  {
   "cell_type": "markdown",
   "id": "18c67a52",
   "metadata": {},
   "source": [
    "## Task 4: Follow-Up (1 point)\n",
    "\n",
    "Consider an exam (think of SAT) that everyone get an integer score between $400$ and $1600$.\n",
    "Do you think the leading digits of these scores will satisfy Benford's Law? Why or why not?\n",
    "\n",
    "Hint: Check the wikipedia page here https://en.wikipedia.org/wiki/Benford%27s_law."
   ]
  },
  {
   "cell_type": "code",
   "execution_count": null,
   "id": "65d97e96",
   "metadata": {},
   "outputs": [],
   "source": [
    "\"\"\"Comments here.\"\"\""
   ]
  }
 ],
 "metadata": {
  "kernelspec": {
   "display_name": "Python 3 (ipykernel)",
   "language": "python",
   "name": "python3"
  },
  "language_info": {
   "codemirror_mode": {
    "name": "ipython",
    "version": 3
   },
   "file_extension": ".py",
   "mimetype": "text/x-python",
   "name": "python",
   "nbconvert_exporter": "python",
   "pygments_lexer": "ipython3",
   "version": "3.11.5"
  }
 },
 "nbformat": 4,
 "nbformat_minor": 5
}
